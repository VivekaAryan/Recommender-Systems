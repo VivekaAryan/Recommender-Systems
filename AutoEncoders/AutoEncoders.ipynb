{
  "nbformat": 4,
  "nbformat_minor": 0,
  "metadata": {
    "colab": {
      "name": "AutoEncoders.ipynb",
      "provenance": [],
      "collapsed_sections": []
    },
    "kernelspec": {
      "name": "python3",
      "display_name": "Python 3"
    },
    "accelerator": "GPU"
  },
  "cells": [
    {
      "cell_type": "markdown",
      "metadata": {
        "id": "i-1CDMk4xEvZ",
        "colab_type": "text"
      },
      "source": [
        "Building a recommendation system that predicts the binary outcome of whether the user will like the movie or not, by leveraging AutoEncoders. \n",
        "\n",
        "Datasets are taken from https://grouplens.org/datasets/movielens/\n"
      ]
    },
    {
      "cell_type": "markdown",
      "metadata": {
        "id": "pVvNRK3_mCFS",
        "colab_type": "text"
      },
      "source": [
        "## Data Preprocessing"
      ]
    },
    {
      "cell_type": "code",
      "metadata": {
        "id": "Aj8ehTo1trsV",
        "colab_type": "code",
        "colab": {}
      },
      "source": [
        "# Importing the libraries\n",
        "import numpy as np\n",
        "import pandas as pd\n",
        "import torch\n",
        "import torch.nn as nn\n",
        "import torch.nn.parallel\n",
        "import torch.optim as optim\n",
        "import torch.utils.data\n",
        "from torch.autograd import Variable"
      ],
      "execution_count": 1,
      "outputs": []
    },
    {
      "cell_type": "code",
      "metadata": {
        "id": "AdHjKdlSuiMm",
        "colab_type": "code",
        "colab": {}
      },
      "source": [
        "# Importing the datasets\n",
        "movies = pd.read_csv('/content/drive/My Drive/Colab Notebooks/ml-1m/movies.dat', sep = '::', header = None, engine = 'python', encoding = 'latin-1')"
      ],
      "execution_count": 2,
      "outputs": []
    },
    {
      "cell_type": "code",
      "metadata": {
        "id": "W7x2icPM7c9q",
        "colab_type": "code",
        "colab": {
          "base_uri": "https://localhost:8080/",
          "height": 514
        },
        "outputId": "30a536bb-1289-43e5-a516-0cb335541cda"
      },
      "source": [
        "movies.head(15)"
      ],
      "execution_count": 3,
      "outputs": [
        {
          "output_type": "execute_result",
          "data": {
            "text/html": [
              "<div>\n",
              "<style scoped>\n",
              "    .dataframe tbody tr th:only-of-type {\n",
              "        vertical-align: middle;\n",
              "    }\n",
              "\n",
              "    .dataframe tbody tr th {\n",
              "        vertical-align: top;\n",
              "    }\n",
              "\n",
              "    .dataframe thead th {\n",
              "        text-align: right;\n",
              "    }\n",
              "</style>\n",
              "<table border=\"1\" class=\"dataframe\">\n",
              "  <thead>\n",
              "    <tr style=\"text-align: right;\">\n",
              "      <th></th>\n",
              "      <th>0</th>\n",
              "      <th>1</th>\n",
              "      <th>2</th>\n",
              "    </tr>\n",
              "  </thead>\n",
              "  <tbody>\n",
              "    <tr>\n",
              "      <th>0</th>\n",
              "      <td>1</td>\n",
              "      <td>Toy Story (1995)</td>\n",
              "      <td>Animation|Children's|Comedy</td>\n",
              "    </tr>\n",
              "    <tr>\n",
              "      <th>1</th>\n",
              "      <td>2</td>\n",
              "      <td>Jumanji (1995)</td>\n",
              "      <td>Adventure|Children's|Fantasy</td>\n",
              "    </tr>\n",
              "    <tr>\n",
              "      <th>2</th>\n",
              "      <td>3</td>\n",
              "      <td>Grumpier Old Men (1995)</td>\n",
              "      <td>Comedy|Romance</td>\n",
              "    </tr>\n",
              "    <tr>\n",
              "      <th>3</th>\n",
              "      <td>4</td>\n",
              "      <td>Waiting to Exhale (1995)</td>\n",
              "      <td>Comedy|Drama</td>\n",
              "    </tr>\n",
              "    <tr>\n",
              "      <th>4</th>\n",
              "      <td>5</td>\n",
              "      <td>Father of the Bride Part II (1995)</td>\n",
              "      <td>Comedy</td>\n",
              "    </tr>\n",
              "    <tr>\n",
              "      <th>5</th>\n",
              "      <td>6</td>\n",
              "      <td>Heat (1995)</td>\n",
              "      <td>Action|Crime|Thriller</td>\n",
              "    </tr>\n",
              "    <tr>\n",
              "      <th>6</th>\n",
              "      <td>7</td>\n",
              "      <td>Sabrina (1995)</td>\n",
              "      <td>Comedy|Romance</td>\n",
              "    </tr>\n",
              "    <tr>\n",
              "      <th>7</th>\n",
              "      <td>8</td>\n",
              "      <td>Tom and Huck (1995)</td>\n",
              "      <td>Adventure|Children's</td>\n",
              "    </tr>\n",
              "    <tr>\n",
              "      <th>8</th>\n",
              "      <td>9</td>\n",
              "      <td>Sudden Death (1995)</td>\n",
              "      <td>Action</td>\n",
              "    </tr>\n",
              "    <tr>\n",
              "      <th>9</th>\n",
              "      <td>10</td>\n",
              "      <td>GoldenEye (1995)</td>\n",
              "      <td>Action|Adventure|Thriller</td>\n",
              "    </tr>\n",
              "    <tr>\n",
              "      <th>10</th>\n",
              "      <td>11</td>\n",
              "      <td>American President, The (1995)</td>\n",
              "      <td>Comedy|Drama|Romance</td>\n",
              "    </tr>\n",
              "    <tr>\n",
              "      <th>11</th>\n",
              "      <td>12</td>\n",
              "      <td>Dracula: Dead and Loving It (1995)</td>\n",
              "      <td>Comedy|Horror</td>\n",
              "    </tr>\n",
              "    <tr>\n",
              "      <th>12</th>\n",
              "      <td>13</td>\n",
              "      <td>Balto (1995)</td>\n",
              "      <td>Animation|Children's</td>\n",
              "    </tr>\n",
              "    <tr>\n",
              "      <th>13</th>\n",
              "      <td>14</td>\n",
              "      <td>Nixon (1995)</td>\n",
              "      <td>Drama</td>\n",
              "    </tr>\n",
              "    <tr>\n",
              "      <th>14</th>\n",
              "      <td>15</td>\n",
              "      <td>Cutthroat Island (1995)</td>\n",
              "      <td>Action|Adventure|Romance</td>\n",
              "    </tr>\n",
              "  </tbody>\n",
              "</table>\n",
              "</div>"
            ],
            "text/plain": [
              "     0                                   1                             2\n",
              "0    1                    Toy Story (1995)   Animation|Children's|Comedy\n",
              "1    2                      Jumanji (1995)  Adventure|Children's|Fantasy\n",
              "2    3             Grumpier Old Men (1995)                Comedy|Romance\n",
              "3    4            Waiting to Exhale (1995)                  Comedy|Drama\n",
              "4    5  Father of the Bride Part II (1995)                        Comedy\n",
              "5    6                         Heat (1995)         Action|Crime|Thriller\n",
              "6    7                      Sabrina (1995)                Comedy|Romance\n",
              "7    8                 Tom and Huck (1995)          Adventure|Children's\n",
              "8    9                 Sudden Death (1995)                        Action\n",
              "9   10                    GoldenEye (1995)     Action|Adventure|Thriller\n",
              "10  11      American President, The (1995)          Comedy|Drama|Romance\n",
              "11  12  Dracula: Dead and Loving It (1995)                 Comedy|Horror\n",
              "12  13                        Balto (1995)          Animation|Children's\n",
              "13  14                        Nixon (1995)                         Drama\n",
              "14  15             Cutthroat Island (1995)      Action|Adventure|Romance"
            ]
          },
          "metadata": {
            "tags": []
          },
          "execution_count": 3
        }
      ]
    },
    {
      "cell_type": "code",
      "metadata": {
        "id": "JAvjYYxF7fXl",
        "colab_type": "code",
        "colab": {
          "base_uri": "https://localhost:8080/",
          "height": 34
        },
        "outputId": "74263819-0032-477a-b787-c1dee0ee3d30"
      },
      "source": [
        "movies.shape"
      ],
      "execution_count": 4,
      "outputs": [
        {
          "output_type": "execute_result",
          "data": {
            "text/plain": [
              "(3883, 3)"
            ]
          },
          "metadata": {
            "tags": []
          },
          "execution_count": 4
        }
      ]
    },
    {
      "cell_type": "code",
      "metadata": {
        "id": "0onjwaBx7ryD",
        "colab_type": "code",
        "colab": {}
      },
      "source": [
        "# Importing the datasets\n",
        "users = pd.read_csv('/content/drive/My Drive/Colab Notebooks/ml-1m/users.dat', sep = '::', header = None, engine = 'python', encoding = 'latin-1')"
      ],
      "execution_count": 5,
      "outputs": []
    },
    {
      "cell_type": "code",
      "metadata": {
        "id": "8Ny9SjI284KE",
        "colab_type": "code",
        "colab": {
          "base_uri": "https://localhost:8080/",
          "height": 34
        },
        "outputId": "51697440-785c-47b3-adc7-d4f0c0fb3f8c"
      },
      "source": [
        "users.shape"
      ],
      "execution_count": 6,
      "outputs": [
        {
          "output_type": "execute_result",
          "data": {
            "text/plain": [
              "(6040, 5)"
            ]
          },
          "metadata": {
            "tags": []
          },
          "execution_count": 6
        }
      ]
    },
    {
      "cell_type": "code",
      "metadata": {
        "id": "hdoqvL4v7-Dk",
        "colab_type": "code",
        "colab": {
          "base_uri": "https://localhost:8080/",
          "height": 359
        },
        "outputId": "aac2ba1f-005d-4f45-f048-8fa343f415b7"
      },
      "source": [
        "users.head(10)"
      ],
      "execution_count": 7,
      "outputs": [
        {
          "output_type": "execute_result",
          "data": {
            "text/html": [
              "<div>\n",
              "<style scoped>\n",
              "    .dataframe tbody tr th:only-of-type {\n",
              "        vertical-align: middle;\n",
              "    }\n",
              "\n",
              "    .dataframe tbody tr th {\n",
              "        vertical-align: top;\n",
              "    }\n",
              "\n",
              "    .dataframe thead th {\n",
              "        text-align: right;\n",
              "    }\n",
              "</style>\n",
              "<table border=\"1\" class=\"dataframe\">\n",
              "  <thead>\n",
              "    <tr style=\"text-align: right;\">\n",
              "      <th></th>\n",
              "      <th>0</th>\n",
              "      <th>1</th>\n",
              "      <th>2</th>\n",
              "      <th>3</th>\n",
              "      <th>4</th>\n",
              "    </tr>\n",
              "  </thead>\n",
              "  <tbody>\n",
              "    <tr>\n",
              "      <th>0</th>\n",
              "      <td>1</td>\n",
              "      <td>F</td>\n",
              "      <td>1</td>\n",
              "      <td>10</td>\n",
              "      <td>48067</td>\n",
              "    </tr>\n",
              "    <tr>\n",
              "      <th>1</th>\n",
              "      <td>2</td>\n",
              "      <td>M</td>\n",
              "      <td>56</td>\n",
              "      <td>16</td>\n",
              "      <td>70072</td>\n",
              "    </tr>\n",
              "    <tr>\n",
              "      <th>2</th>\n",
              "      <td>3</td>\n",
              "      <td>M</td>\n",
              "      <td>25</td>\n",
              "      <td>15</td>\n",
              "      <td>55117</td>\n",
              "    </tr>\n",
              "    <tr>\n",
              "      <th>3</th>\n",
              "      <td>4</td>\n",
              "      <td>M</td>\n",
              "      <td>45</td>\n",
              "      <td>7</td>\n",
              "      <td>02460</td>\n",
              "    </tr>\n",
              "    <tr>\n",
              "      <th>4</th>\n",
              "      <td>5</td>\n",
              "      <td>M</td>\n",
              "      <td>25</td>\n",
              "      <td>20</td>\n",
              "      <td>55455</td>\n",
              "    </tr>\n",
              "    <tr>\n",
              "      <th>5</th>\n",
              "      <td>6</td>\n",
              "      <td>F</td>\n",
              "      <td>50</td>\n",
              "      <td>9</td>\n",
              "      <td>55117</td>\n",
              "    </tr>\n",
              "    <tr>\n",
              "      <th>6</th>\n",
              "      <td>7</td>\n",
              "      <td>M</td>\n",
              "      <td>35</td>\n",
              "      <td>1</td>\n",
              "      <td>06810</td>\n",
              "    </tr>\n",
              "    <tr>\n",
              "      <th>7</th>\n",
              "      <td>8</td>\n",
              "      <td>M</td>\n",
              "      <td>25</td>\n",
              "      <td>12</td>\n",
              "      <td>11413</td>\n",
              "    </tr>\n",
              "    <tr>\n",
              "      <th>8</th>\n",
              "      <td>9</td>\n",
              "      <td>M</td>\n",
              "      <td>25</td>\n",
              "      <td>17</td>\n",
              "      <td>61614</td>\n",
              "    </tr>\n",
              "    <tr>\n",
              "      <th>9</th>\n",
              "      <td>10</td>\n",
              "      <td>F</td>\n",
              "      <td>35</td>\n",
              "      <td>1</td>\n",
              "      <td>95370</td>\n",
              "    </tr>\n",
              "  </tbody>\n",
              "</table>\n",
              "</div>"
            ],
            "text/plain": [
              "    0  1   2   3      4\n",
              "0   1  F   1  10  48067\n",
              "1   2  M  56  16  70072\n",
              "2   3  M  25  15  55117\n",
              "3   4  M  45   7  02460\n",
              "4   5  M  25  20  55455\n",
              "5   6  F  50   9  55117\n",
              "6   7  M  35   1  06810\n",
              "7   8  M  25  12  11413\n",
              "8   9  M  25  17  61614\n",
              "9  10  F  35   1  95370"
            ]
          },
          "metadata": {
            "tags": []
          },
          "execution_count": 7
        }
      ]
    },
    {
      "cell_type": "markdown",
      "metadata": {
        "id": "DJhtPl4n8MI5",
        "colab_type": "text"
      },
      "source": [
        "Description of Data:  \n",
        "0 --> User ID  \n",
        "1 --> Gender  \n",
        "2 --> Age  \n",
        "3 --> Occupation  \n",
        "4 --> Zip Code  "
      ]
    },
    {
      "cell_type": "code",
      "metadata": {
        "id": "v9431zCw8BHr",
        "colab_type": "code",
        "colab": {
          "base_uri": "https://localhost:8080/",
          "height": 34
        },
        "outputId": "b957cf7b-fc0a-4088-b848-a245e3da4ab5"
      },
      "source": [
        "# Importing the datasets\n",
        "ratings = pd.read_csv('/content/drive/My Drive/Colab Notebooks/ml-1m/ratings.dat', sep = '::', header = None, engine = 'python', encoding = 'latin-1')\n",
        "ratings.shape"
      ],
      "execution_count": 8,
      "outputs": [
        {
          "output_type": "execute_result",
          "data": {
            "text/plain": [
              "(1000209, 4)"
            ]
          },
          "metadata": {
            "tags": []
          },
          "execution_count": 8
        }
      ]
    },
    {
      "cell_type": "code",
      "metadata": {
        "id": "5oiuOpo89LD7",
        "colab_type": "code",
        "colab": {
          "base_uri": "https://localhost:8080/",
          "height": 359
        },
        "outputId": "b1783b64-f9b8-4b79-ef94-b03ba68a76ef"
      },
      "source": [
        "ratings.head(10)"
      ],
      "execution_count": 9,
      "outputs": [
        {
          "output_type": "execute_result",
          "data": {
            "text/html": [
              "<div>\n",
              "<style scoped>\n",
              "    .dataframe tbody tr th:only-of-type {\n",
              "        vertical-align: middle;\n",
              "    }\n",
              "\n",
              "    .dataframe tbody tr th {\n",
              "        vertical-align: top;\n",
              "    }\n",
              "\n",
              "    .dataframe thead th {\n",
              "        text-align: right;\n",
              "    }\n",
              "</style>\n",
              "<table border=\"1\" class=\"dataframe\">\n",
              "  <thead>\n",
              "    <tr style=\"text-align: right;\">\n",
              "      <th></th>\n",
              "      <th>0</th>\n",
              "      <th>1</th>\n",
              "      <th>2</th>\n",
              "      <th>3</th>\n",
              "    </tr>\n",
              "  </thead>\n",
              "  <tbody>\n",
              "    <tr>\n",
              "      <th>0</th>\n",
              "      <td>1</td>\n",
              "      <td>1193</td>\n",
              "      <td>5</td>\n",
              "      <td>978300760</td>\n",
              "    </tr>\n",
              "    <tr>\n",
              "      <th>1</th>\n",
              "      <td>1</td>\n",
              "      <td>661</td>\n",
              "      <td>3</td>\n",
              "      <td>978302109</td>\n",
              "    </tr>\n",
              "    <tr>\n",
              "      <th>2</th>\n",
              "      <td>1</td>\n",
              "      <td>914</td>\n",
              "      <td>3</td>\n",
              "      <td>978301968</td>\n",
              "    </tr>\n",
              "    <tr>\n",
              "      <th>3</th>\n",
              "      <td>1</td>\n",
              "      <td>3408</td>\n",
              "      <td>4</td>\n",
              "      <td>978300275</td>\n",
              "    </tr>\n",
              "    <tr>\n",
              "      <th>4</th>\n",
              "      <td>1</td>\n",
              "      <td>2355</td>\n",
              "      <td>5</td>\n",
              "      <td>978824291</td>\n",
              "    </tr>\n",
              "    <tr>\n",
              "      <th>5</th>\n",
              "      <td>1</td>\n",
              "      <td>1197</td>\n",
              "      <td>3</td>\n",
              "      <td>978302268</td>\n",
              "    </tr>\n",
              "    <tr>\n",
              "      <th>6</th>\n",
              "      <td>1</td>\n",
              "      <td>1287</td>\n",
              "      <td>5</td>\n",
              "      <td>978302039</td>\n",
              "    </tr>\n",
              "    <tr>\n",
              "      <th>7</th>\n",
              "      <td>1</td>\n",
              "      <td>2804</td>\n",
              "      <td>5</td>\n",
              "      <td>978300719</td>\n",
              "    </tr>\n",
              "    <tr>\n",
              "      <th>8</th>\n",
              "      <td>1</td>\n",
              "      <td>594</td>\n",
              "      <td>4</td>\n",
              "      <td>978302268</td>\n",
              "    </tr>\n",
              "    <tr>\n",
              "      <th>9</th>\n",
              "      <td>1</td>\n",
              "      <td>919</td>\n",
              "      <td>4</td>\n",
              "      <td>978301368</td>\n",
              "    </tr>\n",
              "  </tbody>\n",
              "</table>\n",
              "</div>"
            ],
            "text/plain": [
              "   0     1  2          3\n",
              "0  1  1193  5  978300760\n",
              "1  1   661  3  978302109\n",
              "2  1   914  3  978301968\n",
              "3  1  3408  4  978300275\n",
              "4  1  2355  5  978824291\n",
              "5  1  1197  3  978302268\n",
              "6  1  1287  5  978302039\n",
              "7  1  2804  5  978300719\n",
              "8  1   594  4  978302268\n",
              "9  1   919  4  978301368"
            ]
          },
          "metadata": {
            "tags": []
          },
          "execution_count": 9
        }
      ]
    },
    {
      "cell_type": "markdown",
      "metadata": {
        "id": "4HAw__r89o_s",
        "colab_type": "text"
      },
      "source": [
        "Descrption of the Data:  \n",
        "0 --> Corresponds to the user ID   \n",
        "1 --> Corresponds to the movie ID  \n",
        "2 --> Ratings from 1-5  \n",
        "3 --> Timestamps"
      ]
    },
    {
      "cell_type": "code",
      "metadata": {
        "id": "02hWuH739TNB",
        "colab_type": "code",
        "colab": {}
      },
      "source": [
        "# Preparing the training set and the test set\n",
        "training_set = pd.read_csv('/content/drive/My Drive/Colab Notebooks/ml-100k/u1.base', delimiter = '\\t')"
      ],
      "execution_count": 10,
      "outputs": []
    },
    {
      "cell_type": "code",
      "metadata": {
        "id": "sdRjLuKaL9Wu",
        "colab_type": "code",
        "colab": {
          "base_uri": "https://localhost:8080/",
          "height": 204
        },
        "outputId": "b276c775-2659-4425-ca89-3cfb11b204a8"
      },
      "source": [
        "training_set.head()"
      ],
      "execution_count": 11,
      "outputs": [
        {
          "output_type": "execute_result",
          "data": {
            "text/html": [
              "<div>\n",
              "<style scoped>\n",
              "    .dataframe tbody tr th:only-of-type {\n",
              "        vertical-align: middle;\n",
              "    }\n",
              "\n",
              "    .dataframe tbody tr th {\n",
              "        vertical-align: top;\n",
              "    }\n",
              "\n",
              "    .dataframe thead th {\n",
              "        text-align: right;\n",
              "    }\n",
              "</style>\n",
              "<table border=\"1\" class=\"dataframe\">\n",
              "  <thead>\n",
              "    <tr style=\"text-align: right;\">\n",
              "      <th></th>\n",
              "      <th>1</th>\n",
              "      <th>1.1</th>\n",
              "      <th>5</th>\n",
              "      <th>874965758</th>\n",
              "    </tr>\n",
              "  </thead>\n",
              "  <tbody>\n",
              "    <tr>\n",
              "      <th>0</th>\n",
              "      <td>1</td>\n",
              "      <td>2</td>\n",
              "      <td>3</td>\n",
              "      <td>876893171</td>\n",
              "    </tr>\n",
              "    <tr>\n",
              "      <th>1</th>\n",
              "      <td>1</td>\n",
              "      <td>3</td>\n",
              "      <td>4</td>\n",
              "      <td>878542960</td>\n",
              "    </tr>\n",
              "    <tr>\n",
              "      <th>2</th>\n",
              "      <td>1</td>\n",
              "      <td>4</td>\n",
              "      <td>3</td>\n",
              "      <td>876893119</td>\n",
              "    </tr>\n",
              "    <tr>\n",
              "      <th>3</th>\n",
              "      <td>1</td>\n",
              "      <td>5</td>\n",
              "      <td>3</td>\n",
              "      <td>889751712</td>\n",
              "    </tr>\n",
              "    <tr>\n",
              "      <th>4</th>\n",
              "      <td>1</td>\n",
              "      <td>7</td>\n",
              "      <td>4</td>\n",
              "      <td>875071561</td>\n",
              "    </tr>\n",
              "  </tbody>\n",
              "</table>\n",
              "</div>"
            ],
            "text/plain": [
              "   1  1.1  5  874965758\n",
              "0  1    2  3  876893171\n",
              "1  1    3  4  878542960\n",
              "2  1    4  3  876893119\n",
              "3  1    5  3  889751712\n",
              "4  1    7  4  875071561"
            ]
          },
          "metadata": {
            "tags": []
          },
          "execution_count": 11
        }
      ]
    },
    {
      "cell_type": "code",
      "metadata": {
        "id": "FX7fx_aZMCzy",
        "colab_type": "code",
        "colab": {
          "base_uri": "https://localhost:8080/",
          "height": 34
        },
        "outputId": "409764cc-40a8-4dde-bd1e-101b540d0970"
      },
      "source": [
        "training_set.shape"
      ],
      "execution_count": 12,
      "outputs": [
        {
          "output_type": "execute_result",
          "data": {
            "text/plain": [
              "(79999, 4)"
            ]
          },
          "metadata": {
            "tags": []
          },
          "execution_count": 12
        }
      ]
    },
    {
      "cell_type": "code",
      "metadata": {
        "id": "jg0yJgeYMF2q",
        "colab_type": "code",
        "colab": {}
      },
      "source": [
        "training_set = np.array(training_set, dtype = 'int')"
      ],
      "execution_count": 13,
      "outputs": []
    },
    {
      "cell_type": "code",
      "metadata": {
        "id": "uw_74nzHMzFz",
        "colab_type": "code",
        "colab": {}
      },
      "source": [
        "test_set = pd.read_csv('/content/drive/My Drive/Colab Notebooks/ml-100k/u1.test', delimiter = '\\t')\n",
        "test_set = np.array(test_set, dtype = 'int')"
      ],
      "execution_count": 14,
      "outputs": []
    },
    {
      "cell_type": "code",
      "metadata": {
        "id": "nZPRVNo2NQT6",
        "colab_type": "code",
        "colab": {
          "base_uri": "https://localhost:8080/",
          "height": 34
        },
        "outputId": "0d8ed827-17d9-4891-80c4-c51a7ce2e2b7"
      },
      "source": [
        "# Getting the total no.of users and movies\n",
        "nb_users = int(max(max(training_set[:,0]), max(test_set[:,0])))\n",
        "nb_users"
      ],
      "execution_count": 15,
      "outputs": [
        {
          "output_type": "execute_result",
          "data": {
            "text/plain": [
              "943"
            ]
          },
          "metadata": {
            "tags": []
          },
          "execution_count": 15
        }
      ]
    },
    {
      "cell_type": "code",
      "metadata": {
        "id": "eLZXj-lPQtzV",
        "colab_type": "code",
        "colab": {
          "base_uri": "https://localhost:8080/",
          "height": 34
        },
        "outputId": "8e019255-7690-4d89-e701-34664fed02c0"
      },
      "source": [
        "nb_movies = int(max(max(training_set[:,1]), max(test_set[:,1])))\n",
        "nb_movies"
      ],
      "execution_count": 16,
      "outputs": [
        {
          "output_type": "execute_result",
          "data": {
            "text/plain": [
              "1682"
            ]
          },
          "metadata": {
            "tags": []
          },
          "execution_count": 16
        }
      ]
    },
    {
      "cell_type": "code",
      "metadata": {
        "id": "YWoaq3RsQ2CN",
        "colab_type": "code",
        "colab": {}
      },
      "source": [
        "# Converting he data into an array with users in lines and movies in columns\n",
        "def convert(data):\n",
        "  new_data = []\n",
        "  for id_users in range(1, nb_users + 1):\n",
        "    id_movies = data[:, 1][data[:, 0] == id_users] \n",
        "    id_ratings = data[:, 2][data[:, 0] == id_users] \n",
        "    ratings = np.zeros(nb_movies)\n",
        "    ratings[id_movies - 1] = id_ratings\n",
        "    new_data.append(list(ratings))\n",
        "  return new_data\n",
        "\n",
        "training_set = convert(training_set)"
      ],
      "execution_count": 17,
      "outputs": []
    },
    {
      "cell_type": "code",
      "metadata": {
        "id": "cp2j6DLjVEJE",
        "colab_type": "code",
        "colab": {}
      },
      "source": [
        "test_set = convert(test_set)"
      ],
      "execution_count": 18,
      "outputs": []
    },
    {
      "cell_type": "code",
      "metadata": {
        "id": "O0h9ntXuWPfM",
        "colab_type": "code",
        "colab": {
          "base_uri": "https://localhost:8080/",
          "height": 153
        },
        "outputId": "c7e92ccb-c4f3-4a0f-dbd8-42c0d3540c05"
      },
      "source": [
        "print(pd.DataFrame(training_set).head())"
      ],
      "execution_count": 19,
      "outputs": [
        {
          "output_type": "stream",
          "text": [
            "   0     1     2     3     4     5     ...  1676  1677  1678  1679  1680  1681\n",
            "0   0.0   3.0   4.0   3.0   3.0   0.0  ...   0.0   0.0   0.0   0.0   0.0   0.0\n",
            "1   4.0   0.0   0.0   0.0   0.0   0.0  ...   0.0   0.0   0.0   0.0   0.0   0.0\n",
            "2   0.0   0.0   0.0   0.0   0.0   0.0  ...   0.0   0.0   0.0   0.0   0.0   0.0\n",
            "3   0.0   0.0   0.0   0.0   0.0   0.0  ...   0.0   0.0   0.0   0.0   0.0   0.0\n",
            "4   0.0   0.0   0.0   0.0   0.0   0.0  ...   0.0   0.0   0.0   0.0   0.0   0.0\n",
            "\n",
            "[5 rows x 1682 columns]\n"
          ],
          "name": "stdout"
        }
      ]
    },
    {
      "cell_type": "code",
      "metadata": {
        "id": "z1TExpZEWtZx",
        "colab_type": "code",
        "colab": {
          "base_uri": "https://localhost:8080/",
          "height": 153
        },
        "outputId": "93bf2d65-12ff-4e31-de3c-beb0a0cc63dc"
      },
      "source": [
        "print(pd.DataFrame(test_set).head())"
      ],
      "execution_count": 20,
      "outputs": [
        {
          "output_type": "stream",
          "text": [
            "   0     1     2     3     4     5     ...  1676  1677  1678  1679  1680  1681\n",
            "0   0.0   0.0   0.0   0.0   0.0   0.0  ...   0.0   0.0   0.0   0.0   0.0   0.0\n",
            "1   0.0   0.0   0.0   0.0   0.0   0.0  ...   0.0   0.0   0.0   0.0   0.0   0.0\n",
            "2   0.0   0.0   0.0   0.0   0.0   0.0  ...   0.0   0.0   0.0   0.0   0.0   0.0\n",
            "3   0.0   0.0   0.0   0.0   0.0   0.0  ...   0.0   0.0   0.0   0.0   0.0   0.0\n",
            "4   4.0   3.0   0.0   0.0   0.0   0.0  ...   0.0   0.0   0.0   0.0   0.0   0.0\n",
            "\n",
            "[5 rows x 1682 columns]\n"
          ],
          "name": "stdout"
        }
      ]
    },
    {
      "cell_type": "code",
      "metadata": {
        "id": "UBULXb3kXiss",
        "colab_type": "code",
        "colab": {}
      },
      "source": [
        "# Converting the data into torch tensors\n",
        "training_set = torch.FloatTensor(training_set)\n",
        "test_set = torch.FloatTensor(test_set)"
      ],
      "execution_count": 21,
      "outputs": []
    },
    {
      "cell_type": "code",
      "metadata": {
        "id": "ucOa8DsileiL",
        "colab_type": "code",
        "colab": {
          "base_uri": "https://localhost:8080/",
          "height": 34
        },
        "outputId": "fc066601-e521-4e35-a50a-4e89a5cda40e"
      },
      "source": [
        "training_set.shape"
      ],
      "execution_count": 22,
      "outputs": [
        {
          "output_type": "execute_result",
          "data": {
            "text/plain": [
              "torch.Size([943, 1682])"
            ]
          },
          "metadata": {
            "tags": []
          },
          "execution_count": 22
        }
      ]
    },
    {
      "cell_type": "markdown",
      "metadata": {
        "id": "f4P5o_1yoZ_p",
        "colab_type": "text"
      },
      "source": [
        "## Creating the architecture of the Neural Network"
      ]
    },
    {
      "cell_type": "code",
      "metadata": {
        "id": "Nm8mlctdoKh_",
        "colab_type": "code",
        "colab": {}
      },
      "source": [
        "class SAE(nn.Module):\n",
        "    def __init__(self, ):\n",
        "        super(SAE, self).__init__()\n",
        "        self.fc1 = nn.Linear(nb_movies, 20)\n",
        "        self.fc2 = nn.Linear(20, 10)\n",
        "        self.fc3 = nn.Linear(10, 20)\n",
        "        self.fc4 = nn.Linear(20, nb_movies)\n",
        "        self.activation = nn.Sigmoid()\n",
        "    def forward(self, x):\n",
        "        x = self.activation(self.fc1(x))\n",
        "        x = self.activation(self.fc2(x))\n",
        "        x = self.activation(self.fc3(x))\n",
        "        x = self.fc4(x)\n",
        "        return x\n",
        "        \n",
        "sae = SAE()\n",
        "criterion = nn.MSELoss()\n",
        "optimizer = optim.RMSprop(sae.parameters(), lr = 0.01, weight_decay = 0.5)"
      ],
      "execution_count": 23,
      "outputs": []
    },
    {
      "cell_type": "markdown",
      "metadata": {
        "id": "_6BkGSuxC6Ic",
        "colab_type": "text"
      },
      "source": [
        "## Training the SAE"
      ]
    },
    {
      "cell_type": "code",
      "metadata": {
        "id": "UAWBByqEC25t",
        "colab_type": "code",
        "colab": {
          "base_uri": "https://localhost:8080/",
          "height": 1000
        },
        "outputId": "461609a1-5a1f-4c58-e3b4-bb505d43481a"
      },
      "source": [
        "nb_epoch = 200\n",
        "for epoch in range(1, nb_epoch + 1):\n",
        "  train_loss = 0\n",
        "  s = 0.\n",
        "  for id_user in range(nb_users):\n",
        "    input = Variable(training_set[id_user]).unsqueeze(0)\n",
        "    target = input.clone()\n",
        "    if torch.sum(target.data > 0) > 0:\n",
        "      output = sae(input)\n",
        "      target.require_grad = False\n",
        "      output[target == 0] = 0\n",
        "      loss = criterion(output, target)\n",
        "      mean_corrector = nb_movies/float(torch.sum(target.data > 0) + 1e-10)\n",
        "      loss.backward()\n",
        "      train_loss += np.sqrt(loss.data*mean_corrector)\n",
        "      s += 1.\n",
        "      optimizer.step()\n",
        "  print('epoch: '+str(epoch)+'loss: '+ str(train_loss/s))"
      ],
      "execution_count": 24,
      "outputs": [
        {
          "output_type": "stream",
          "text": [
            "epoch: 1loss: tensor(1.7717)\n",
            "epoch: 2loss: tensor(1.0965)\n",
            "epoch: 3loss: tensor(1.0534)\n",
            "epoch: 4loss: tensor(1.0382)\n",
            "epoch: 5loss: tensor(1.0309)\n",
            "epoch: 6loss: tensor(1.0265)\n",
            "epoch: 7loss: tensor(1.0238)\n",
            "epoch: 8loss: tensor(1.0219)\n",
            "epoch: 9loss: tensor(1.0208)\n",
            "epoch: 10loss: tensor(1.0195)\n",
            "epoch: 11loss: tensor(1.0188)\n",
            "epoch: 12loss: tensor(1.0185)\n",
            "epoch: 13loss: tensor(1.0177)\n",
            "epoch: 14loss: tensor(1.0175)\n",
            "epoch: 15loss: tensor(1.0171)\n",
            "epoch: 16loss: tensor(1.0172)\n",
            "epoch: 17loss: tensor(1.0169)\n",
            "epoch: 18loss: tensor(1.0165)\n",
            "epoch: 19loss: tensor(1.0163)\n",
            "epoch: 20loss: tensor(1.0161)\n",
            "epoch: 21loss: tensor(1.0162)\n",
            "epoch: 22loss: tensor(1.0160)\n",
            "epoch: 23loss: tensor(1.0157)\n",
            "epoch: 24loss: tensor(1.0158)\n",
            "epoch: 25loss: tensor(1.0156)\n",
            "epoch: 26loss: tensor(1.0155)\n",
            "epoch: 27loss: tensor(1.0154)\n",
            "epoch: 28loss: tensor(1.0154)\n",
            "epoch: 29loss: tensor(1.0126)\n",
            "epoch: 30loss: tensor(1.0117)\n",
            "epoch: 31loss: tensor(1.0094)\n",
            "epoch: 32loss: tensor(1.0092)\n",
            "epoch: 33loss: tensor(1.0043)\n",
            "epoch: 34loss: tensor(1.0046)\n",
            "epoch: 35loss: tensor(1.0010)\n",
            "epoch: 36loss: tensor(1.0013)\n",
            "epoch: 37loss: tensor(0.9976)\n",
            "epoch: 38loss: tensor(0.9975)\n",
            "epoch: 39loss: tensor(0.9951)\n",
            "epoch: 40loss: tensor(0.9915)\n",
            "epoch: 41loss: tensor(0.9913)\n",
            "epoch: 42loss: tensor(0.9915)\n",
            "epoch: 43loss: tensor(0.9887)\n",
            "epoch: 44loss: tensor(0.9885)\n",
            "epoch: 45loss: tensor(0.9870)\n",
            "epoch: 46loss: tensor(0.9862)\n",
            "epoch: 47loss: tensor(0.9853)\n",
            "epoch: 48loss: tensor(0.9784)\n",
            "epoch: 49loss: tensor(0.9739)\n",
            "epoch: 50loss: tensor(0.9709)\n",
            "epoch: 51loss: tensor(0.9705)\n",
            "epoch: 52loss: tensor(0.9722)\n",
            "epoch: 53loss: tensor(0.9699)\n",
            "epoch: 54loss: tensor(0.9692)\n",
            "epoch: 55loss: tensor(0.9690)\n",
            "epoch: 56loss: tensor(0.9724)\n",
            "epoch: 57loss: tensor(0.9659)\n",
            "epoch: 58loss: tensor(0.9648)\n",
            "epoch: 59loss: tensor(0.9611)\n",
            "epoch: 60loss: tensor(0.9619)\n",
            "epoch: 61loss: tensor(0.9585)\n",
            "epoch: 62loss: tensor(0.9595)\n",
            "epoch: 63loss: tensor(0.9569)\n",
            "epoch: 64loss: tensor(0.9583)\n",
            "epoch: 65loss: tensor(0.9550)\n",
            "epoch: 66loss: tensor(0.9544)\n",
            "epoch: 67loss: tensor(0.9517)\n",
            "epoch: 68loss: tensor(0.9520)\n",
            "epoch: 69loss: tensor(0.9489)\n",
            "epoch: 70loss: tensor(0.9505)\n",
            "epoch: 71loss: tensor(0.9473)\n",
            "epoch: 72loss: tensor(0.9484)\n",
            "epoch: 73loss: tensor(0.9451)\n",
            "epoch: 74loss: tensor(0.9472)\n",
            "epoch: 75loss: tensor(0.9422)\n",
            "epoch: 76loss: tensor(0.9455)\n",
            "epoch: 77loss: tensor(0.9403)\n",
            "epoch: 78loss: tensor(0.9425)\n",
            "epoch: 79loss: tensor(0.9396)\n",
            "epoch: 80loss: tensor(0.9414)\n",
            "epoch: 81loss: tensor(0.9393)\n",
            "epoch: 82loss: tensor(0.9412)\n",
            "epoch: 83loss: tensor(0.9381)\n",
            "epoch: 84loss: tensor(0.9389)\n",
            "epoch: 85loss: tensor(0.9368)\n",
            "epoch: 86loss: tensor(0.9378)\n",
            "epoch: 87loss: tensor(0.9358)\n",
            "epoch: 88loss: tensor(0.9377)\n",
            "epoch: 89loss: tensor(0.9351)\n",
            "epoch: 90loss: tensor(0.9362)\n",
            "epoch: 91loss: tensor(0.9351)\n",
            "epoch: 92loss: tensor(0.9357)\n",
            "epoch: 93loss: tensor(0.9339)\n",
            "epoch: 94loss: tensor(0.9350)\n",
            "epoch: 95loss: tensor(0.9334)\n",
            "epoch: 96loss: tensor(0.9344)\n",
            "epoch: 97loss: tensor(0.9325)\n",
            "epoch: 98loss: tensor(0.9337)\n",
            "epoch: 99loss: tensor(0.9316)\n",
            "epoch: 100loss: tensor(0.9332)\n",
            "epoch: 101loss: tensor(0.9317)\n",
            "epoch: 102loss: tensor(0.9323)\n",
            "epoch: 103loss: tensor(0.9312)\n",
            "epoch: 104loss: tensor(0.9318)\n",
            "epoch: 105loss: tensor(0.9305)\n",
            "epoch: 106loss: tensor(0.9314)\n",
            "epoch: 107loss: tensor(0.9302)\n",
            "epoch: 108loss: tensor(0.9308)\n",
            "epoch: 109loss: tensor(0.9294)\n",
            "epoch: 110loss: tensor(0.9302)\n",
            "epoch: 111loss: tensor(0.9291)\n",
            "epoch: 112loss: tensor(0.9301)\n",
            "epoch: 113loss: tensor(0.9287)\n",
            "epoch: 114loss: tensor(0.9289)\n",
            "epoch: 115loss: tensor(0.9280)\n",
            "epoch: 116loss: tensor(0.9291)\n",
            "epoch: 117loss: tensor(0.9278)\n",
            "epoch: 118loss: tensor(0.9285)\n",
            "epoch: 119loss: tensor(0.9272)\n",
            "epoch: 120loss: tensor(0.9279)\n",
            "epoch: 121loss: tensor(0.9268)\n",
            "epoch: 122loss: tensor(0.9277)\n",
            "epoch: 123loss: tensor(0.9264)\n",
            "epoch: 124loss: tensor(0.9270)\n",
            "epoch: 125loss: tensor(0.9262)\n",
            "epoch: 126loss: tensor(0.9270)\n",
            "epoch: 127loss: tensor(0.9255)\n",
            "epoch: 128loss: tensor(0.9261)\n",
            "epoch: 129loss: tensor(0.9252)\n",
            "epoch: 130loss: tensor(0.9259)\n",
            "epoch: 131loss: tensor(0.9247)\n",
            "epoch: 132loss: tensor(0.9252)\n",
            "epoch: 133loss: tensor(0.9241)\n",
            "epoch: 134loss: tensor(0.9246)\n",
            "epoch: 135loss: tensor(0.9238)\n",
            "epoch: 136loss: tensor(0.9243)\n",
            "epoch: 137loss: tensor(0.9233)\n",
            "epoch: 138loss: tensor(0.9236)\n",
            "epoch: 139loss: tensor(0.9227)\n",
            "epoch: 140loss: tensor(0.9232)\n",
            "epoch: 141loss: tensor(0.9222)\n",
            "epoch: 142loss: tensor(0.9228)\n",
            "epoch: 143loss: tensor(0.9217)\n",
            "epoch: 144loss: tensor(0.9229)\n",
            "epoch: 145loss: tensor(0.9214)\n",
            "epoch: 146loss: tensor(0.9219)\n",
            "epoch: 147loss: tensor(0.9210)\n",
            "epoch: 148loss: tensor(0.9217)\n",
            "epoch: 149loss: tensor(0.9206)\n",
            "epoch: 150loss: tensor(0.9216)\n",
            "epoch: 151loss: tensor(0.9202)\n",
            "epoch: 152loss: tensor(0.9209)\n",
            "epoch: 153loss: tensor(0.9200)\n",
            "epoch: 154loss: tensor(0.9209)\n",
            "epoch: 155loss: tensor(0.9197)\n",
            "epoch: 156loss: tensor(0.9203)\n",
            "epoch: 157loss: tensor(0.9193)\n",
            "epoch: 158loss: tensor(0.9196)\n",
            "epoch: 159loss: tensor(0.9189)\n",
            "epoch: 160loss: tensor(0.9193)\n",
            "epoch: 161loss: tensor(0.9185)\n",
            "epoch: 162loss: tensor(0.9188)\n",
            "epoch: 163loss: tensor(0.9180)\n",
            "epoch: 164loss: tensor(0.9185)\n",
            "epoch: 165loss: tensor(0.9177)\n",
            "epoch: 166loss: tensor(0.9180)\n",
            "epoch: 167loss: tensor(0.9173)\n",
            "epoch: 168loss: tensor(0.9182)\n",
            "epoch: 169loss: tensor(0.9173)\n",
            "epoch: 170loss: tensor(0.9178)\n",
            "epoch: 171loss: tensor(0.9163)\n",
            "epoch: 172loss: tensor(0.9171)\n",
            "epoch: 173loss: tensor(0.9163)\n",
            "epoch: 174loss: tensor(0.9170)\n",
            "epoch: 175loss: tensor(0.9163)\n",
            "epoch: 176loss: tensor(0.9166)\n",
            "epoch: 177loss: tensor(0.9158)\n",
            "epoch: 178loss: tensor(0.9166)\n",
            "epoch: 179loss: tensor(0.9159)\n",
            "epoch: 180loss: tensor(0.9164)\n",
            "epoch: 181loss: tensor(0.9156)\n",
            "epoch: 182loss: tensor(0.9160)\n",
            "epoch: 183loss: tensor(0.9150)\n",
            "epoch: 184loss: tensor(0.9156)\n",
            "epoch: 185loss: tensor(0.9147)\n",
            "epoch: 186loss: tensor(0.9153)\n",
            "epoch: 187loss: tensor(0.9147)\n",
            "epoch: 188loss: tensor(0.9152)\n",
            "epoch: 189loss: tensor(0.9141)\n",
            "epoch: 190loss: tensor(0.9153)\n",
            "epoch: 191loss: tensor(0.9143)\n",
            "epoch: 192loss: tensor(0.9143)\n",
            "epoch: 193loss: tensor(0.9134)\n",
            "epoch: 194loss: tensor(0.9144)\n",
            "epoch: 195loss: tensor(0.9137)\n",
            "epoch: 196loss: tensor(0.9142)\n",
            "epoch: 197loss: tensor(0.9135)\n",
            "epoch: 198loss: tensor(0.9142)\n",
            "epoch: 199loss: tensor(0.9133)\n",
            "epoch: 200loss: tensor(0.9138)\n"
          ],
          "name": "stdout"
        }
      ]
    },
    {
      "cell_type": "markdown",
      "metadata": {
        "id": "77l34DxHiDMP",
        "colab_type": "text"
      },
      "source": [
        "## Testing the Neural Network"
      ]
    },
    {
      "cell_type": "code",
      "metadata": {
        "id": "H2f0ozflloGH",
        "colab_type": "code",
        "colab": {
          "base_uri": "https://localhost:8080/",
          "height": 34
        },
        "outputId": "e5c8a281-f66c-4505-bf58-9771c1af87e2"
      },
      "source": [
        "test_loss = 0\n",
        "s = 0.\n",
        "for id_user in range(nb_users):\n",
        "  input = Variable(training_set[id_user]).unsqueeze(0)\n",
        "  target = Variable(test_set[id_user]).unsqueeze(0)\n",
        "  if torch.sum(target.data > 0) > 0:\n",
        "    output = sae(input)\n",
        "    target.require_grad = False\n",
        "    output[target == 0] = 0\n",
        "    loss = criterion(output, target)\n",
        "    mean_corrector = nb_movies/float(torch.sum(target.data > 0) + 1e-10)\n",
        "    test_loss += np.sqrt(loss.data*mean_corrector)\n",
        "    s += 1.\n",
        "print('loss: '+ str(test_loss/s))"
      ],
      "execution_count": 26,
      "outputs": [
        {
          "output_type": "stream",
          "text": [
            "loss: tensor(0.9535)\n"
          ],
          "name": "stdout"
        }
      ]
    }
  ]
}